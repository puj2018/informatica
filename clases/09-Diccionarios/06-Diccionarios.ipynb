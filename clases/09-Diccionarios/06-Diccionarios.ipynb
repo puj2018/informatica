{
 "cells": [
  {
   "cell_type": "code",
   "execution_count": 31,
   "metadata": {},
   "outputs": [],
   "source": [
    "from IPython.display import Image"
   ]
  },
  {
   "cell_type": "markdown",
   "metadata": {},
   "source": [
    "- - -\n",
    "# DICCIONARIOS  EN PYTHON\n",
    "- - -"
   ]
  },
  {
   "cell_type": "markdown",
   "metadata": {},
   "source": [
    "- Los diccionarios son otro tipo de estructura o colección al igual que las cadenas y las listas.\n",
    "- De igual forma pueden contener más de un valor\n",
    "- Sin embargo los elementos se guardan sin ningún orden.\n",
    "- Los diccionario están compuestos por una estructura para guardar valores de la forma\n",
    "    CLAVE:VALOR.\n",
    "    \n",
    "- Cada clave está separada de su valor por dos puntos \":\", \n",
    "- Sus elementos separados por comas y \n",
    "- Todo va delimitado con llaves {}"
   ]
  },
  {
   "cell_type": "markdown",
   "metadata": {},
   "source": [
    "## Ejemplos"
   ]
  },
  {
   "cell_type": "markdown",
   "metadata": {},
   "source": [
    "### Diccionario de edades con el nombre como clave"
   ]
  },
  {
   "cell_type": "code",
   "execution_count": 28,
   "metadata": {},
   "outputs": [],
   "source": [
    "edades = {\"Juan\":23, \"Maria\": 25, \"Ana\":22, \"Pablo\":25}"
   ]
  },
  {
   "cell_type": "code",
   "execution_count": 29,
   "metadata": {},
   "outputs": [],
   "source": [
    "dicGenes = {\"genRaton\": \"AACGTA\", \"genGato\" : \"GTACCCA\", \"genHumano\": \"CCGGTAACAGGG\"}"
   ]
  },
  {
   "cell_type": "markdown",
   "metadata": {},
   "source": [
    "## Característica de los Diccionarios"
   ]
  },
  {
   "cell_type": "markdown",
   "metadata": {},
   "source": [
    "* Tipo de datos: **dict** (Las cadenas son: **str** y las lista son **list**)\n",
    "* Son mutables: se pueden cambiar el valor\n",
    "* Para la creación se usa el símbolo de paréntesis **{}**\n",
    "* Para el acceso se utilizan los corchetes **[]**\n",
    "* Se indexan a través de una llave **[key]**\n",
    "* Diferente a las otras estructura que se indexan por posición (cadenas y listas)"
   ]
  },
  {
   "cell_type": "markdown",
   "metadata": {},
   "source": [
    "## Creación"
   ]
  },
  {
   "cell_type": "code",
   "execution_count": null,
   "metadata": {},
   "outputs": [],
   "source": [
    "### Un diccionario vacio\n",
    "d = {}"
   ]
  },
  {
   "cell_type": "code",
   "execution_count": null,
   "metadata": {},
   "outputs": [],
   "source": [
    "### Un diccionario de notas\n",
    "dicNotas = {\"examen1\": 3.0, \"examen2\": 4.3, \"talleres\":2.0, \"quizes\": 4.5}"
   ]
  },
  {
   "cell_type": "code",
   "execution_count": null,
   "metadata": {
    "collapsed": true
   },
   "outputs": [],
   "source": [
    "### Un diccionario de secuencias de genes\n",
    "dicGenes = {\"genRaton\": \"AACGTA\", \"genGato\" : \"GTACCCA\", \"genHumano\": \"CCGGTAACAGGG\"}"
   ]
  },
  {
   "cell_type": "markdown",
   "metadata": {},
   "source": [
    "## Acceso a los elementos\n",
    "- Se usa el nombre seguido de los corchetes y dentro de ellos la clave:\n",
    "            nombreDic [nombreClave]"
   ]
  },
  {
   "cell_type": "markdown",
   "metadata": {},
   "source": [
    "### Ejemplo acceso a los elementos"
   ]
  },
  {
   "cell_type": "code",
   "execution_count": 3,
   "metadata": {},
   "outputs": [
    {
     "name": "stdout",
     "output_type": "stream",
     "text": [
      "23\n"
     ]
    }
   ],
   "source": [
    "edades = {\"Juan\":23, \"Maria\": 25, \"Ana\":22, \"Pablo\":25}\n",
    "ej = edades [\"Juan\"]\n",
    "print (ej)"
   ]
  },
  {
   "cell_type": "code",
   "execution_count": 4,
   "metadata": {},
   "outputs": [
    {
     "name": "stdout",
     "output_type": "stream",
     "text": [
      "25\n"
     ]
    }
   ],
   "source": [
    "ep = edades [\"Pablo\"]\n",
    "print (ep)"
   ]
  },
  {
   "cell_type": "code",
   "execution_count": 5,
   "metadata": {},
   "outputs": [
    {
     "name": "stdout",
     "output_type": "stream",
     "text": [
      "25\n"
     ]
    }
   ],
   "source": [
    "print (edades [\"Maria\"])"
   ]
  },
  {
   "cell_type": "markdown",
   "metadata": {},
   "source": [
    "## Adiccion/Eliminación de Elementos\n",
    "- Para adicionar un nuevo par elemento:clave se usa el operador []\n",
    "- Para eliminar una clave se utiliza la instruccion **del**"
   ]
  },
  {
   "cell_type": "code",
   "execution_count": 21,
   "metadata": {},
   "outputs": [
    {
     "name": "stdout",
     "output_type": "stream",
     "text": [
      "{'Juan': 23, 'Maria': 25, 'Ana': 22, 'Pablo': 25, 'Antonieta': 55}\n"
     ]
    }
   ],
   "source": [
    "# Adicion de la clave \"Antonieta\" con valor de edad de 55 \n",
    "edades = {\"Juan\":23, \"Maria\": 25, \"Ana\":22, \"Pablo\":25}\n",
    "edades [\"Antonieta\"] = 55\n",
    "print (edades)"
   ]
  },
  {
   "cell_type": "code",
   "execution_count": 22,
   "metadata": {},
   "outputs": [
    {
     "name": "stdout",
     "output_type": "stream",
     "text": [
      "{'Juan': 23, 'Maria': 25, 'Pablo': 25, 'Antonieta': 55}\n"
     ]
    }
   ],
   "source": [
    "# Eliminación de la clave y valor de \"Ana\"\n",
    "del edades [\"Ana\"]\n",
    "print (edades)"
   ]
  },
  {
   "cell_type": "markdown",
   "metadata": {},
   "source": [
    "- - - \n",
    "## Métodos principales Integradas de Diccionarios\n",
    "- keys () : retorna las llaves\n",
    "- values (): retorna los valores\n",
    "- items () : retorna una pareja (llave,valor)\n",
    "\n",
    "## Otras métodos de Diccionariso\n",
    "- 'clear',\n",
    "- 'copy',\n",
    "- 'fromkeys',\n",
    "- 'get',\n",
    "- 'items',\n",
    "- 'keys',\n",
    "- 'pop',\n",
    "- 'popitem',\n",
    "- 'setdefault',\n",
    "- 'update',\n",
    "- 'values'"
   ]
  },
  {
   "cell_type": "markdown",
   "metadata": {},
   "source": [
    "---\n",
    "## Iteración en los diccionarios"
   ]
  },
  {
   "cell_type": "markdown",
   "metadata": {},
   "source": [
    "### Iteración general por valores"
   ]
  },
  {
   "cell_type": "code",
   "execution_count": 3,
   "metadata": {},
   "outputs": [
    {
     "name": "stdout",
     "output_type": "stream",
     "text": [
      "Juan\n",
      "Maria\n",
      "Ana\n",
      "Pablo\n"
     ]
    }
   ],
   "source": [
    "edades = {\"Juan\":23, \"Maria\": 25, \"Ana\":22, \"Pablo\":25}\n",
    "for k in edades:\n",
    "    print (k)"
   ]
  },
  {
   "cell_type": "markdown",
   "metadata": {},
   "source": [
    "### Iteración por llaves usando el método keys ()"
   ]
  },
  {
   "cell_type": "code",
   "execution_count": 7,
   "metadata": {},
   "outputs": [
    {
     "name": "stdout",
     "output_type": "stream",
     "text": [
      "Llave: Juan\n",
      "Valor:  23\n",
      "Llave: Maria\n",
      "Valor:  25\n",
      "Llave: Ana\n",
      "Valor:  22\n",
      "Llave: Pablo\n",
      "Valor:  25\n"
     ]
    }
   ],
   "source": [
    "edades = {\"Juan\":23, \"Maria\": 25, \"Ana\":22, \"Pablo\":25}\n",
    "for k in edades.keys():\n",
    "    print (\"Llave:\", k)\n",
    "    print (\"Valor: \", edades [k])"
   ]
  },
  {
   "cell_type": "markdown",
   "metadata": {},
   "source": [
    "### Iteración por valores usando el método values ()"
   ]
  },
  {
   "cell_type": "code",
   "execution_count": 9,
   "metadata": {},
   "outputs": [
    {
     "name": "stdout",
     "output_type": "stream",
     "text": [
      "23\n",
      "25\n",
      "22\n",
      "25\n"
     ]
    }
   ],
   "source": [
    "edades = {\"Juan\":23, \"Maria\": 25, \"Ana\":22, \"Pablo\":25}\n",
    "for v in edades.values ():\n",
    "    print (v)"
   ]
  },
  {
   "cell_type": "markdown",
   "metadata": {},
   "source": [
    "### Iteración por pareja (llave,valor) usando el método items() "
   ]
  },
  {
   "cell_type": "code",
   "execution_count": 27,
   "metadata": {},
   "outputs": [
    {
     "name": "stdout",
     "output_type": "stream",
     "text": [
      "('Juan', 23)\n",
      "('Maria', 25)\n",
      "('Ana', 22)\n",
      "('Pablo', 25)\n"
     ]
    }
   ],
   "source": [
    "edades = {\"Juan\":23, \"Maria\": 25, \"Ana\":22, \"Pablo\":25}\n",
    "for i in edades.items ():\n",
    "    print (i)"
   ]
  }
 ],
 "metadata": {
  "kernelspec": {
   "display_name": "Python 3",
   "language": "python",
   "name": "python3"
  },
  "language_info": {
   "codemirror_mode": {
    "name": "ipython",
    "version": 3
   },
   "file_extension": ".py",
   "mimetype": "text/x-python",
   "name": "python",
   "nbconvert_exporter": "python",
   "pygments_lexer": "ipython3",
   "version": "3.6.5"
  }
 },
 "nbformat": 4,
 "nbformat_minor": 1
}
