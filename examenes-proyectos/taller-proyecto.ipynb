{
 "cells": [
  {
   "cell_type": "markdown",
   "metadata": {},
   "source": [
    "# TALLER PROYECTO INFORMATICA"
   ]
  },
  {
   "cell_type": "markdown",
   "metadata": {},
   "source": [
    "## Lectura de secuencias usando biopython"
   ]
  },
  {
   "cell_type": "code",
   "execution_count": 1,
   "metadata": {},
   "outputs": [
    {
     "name": "stdout",
     "output_type": "stream",
     "text": [
      "ID: U43589.1\n",
      "Name: HSU43589\n",
      "Description: Human obese protein (ob) gene, partial promoter sequence\n",
      "Number of features: 3\n",
      "/molecule_type=DNA\n",
      "/topology=linear\n",
      "/data_file_division=PRI\n",
      "/date=07-MAR-1996\n",
      "/accessions=['U43589']\n",
      "/sequence_version=1\n",
      "/gi=1216401\n",
      "/keywords=['']\n",
      "/source=Homo sapiens (human)\n",
      "/organism=Homo sapiens\n",
      "/taxonomy=['Eukaryota', 'Metazoa', 'Chordata', 'Craniata', 'Vertebrata', 'Euteleostomi', 'Mammalia', 'Eutheria', 'Primates', 'Catarrhini', 'Hominidae', 'Homo']\n",
      "/references=[Reference(title='Genomic structure and promoter analysis of the human obese gene', ...), Reference(title='Direct Submission', ...)]\n",
      "Seq('AAGCTTCTTTAAGGATGGAGAGGCCCTAGTGGAATGGGGAGATTCTTCCGGGAG...AAG', IUPACAmbiguousDNA())\n"
     ]
    }
   ],
   "source": [
    "from Bio import SeqIO\n",
    "reg = SeqIO.read (\"protein.gbk\",\"genbank\")\n",
    "print (reg)"
   ]
  },
  {
   "cell_type": "code",
   "execution_count": 10,
   "metadata": {},
   "outputs": [
    {
     "name": "stdout",
     "output_type": "stream",
     "text": [
      "AAGCTTCTTTAAGGATGGAGAGGCCCTAGTGGAATGGGGAGATTCTTCCGGGAGAAGCGATGGATGCACAGTTGGGCATCCCCACAGACGGACTGGAAAGAAAAAAGGCCTGGAGGAATCAATGTGCAATGTATGTGTGTTCCCTGGTTCAAGGGCTGGGAACTTTCTCTAAAGGGCCAGGTAGAAAACATTTTAGGCTTTCTAAGCCAAGGCAAAATTGAGGATATTACATGGGTACTTATACAACAAGAATAAACAATTTACACAATTTTTTGTTGACAGAATTCAAAACTTTATAGACACAGAAATGCAAATTTCCTGTAATTTTCCCGTGAGAACTATTCTTCTTTTGTTTTGTTTTGCGACAGGGTTGCGCTGATCCTCCCGCCTCAGTCTCCCTAAGTGCTGAGATGTTGCAGGAAGTCAGGGACCCCGAACAGAGAGATCGGCTGGAGCCGTGGCAGAGGAACATAAATTTTGAAGATTTCATTTTAATATGGACACTTATCAGTTCCCAAATAATACTTTTATAATTTTTTATGCCTGTCTTTGCTTTAATCTCTTAATCCTGTTATCTTCATAAGCTAAGGATGTACGTCACCTCAGGACCACTGTGATAATTGTGTTAACTGTACAGATTGATTGCAAAACATGTGTGTTTGAACAATATGAAATCAGTGCACCTTGAAAAAGAGCAGAATAACAGCAATTTTTAGGGAACAAGGGAAGACAACTATAAGGTCTGACTGCCTGCGGGGTCGGGCAAAGGGAGCCATATTTTTCTTCTTGCAGAGAGCCTATAAATAGACCTGCAAGTAGGAGAGATATTGCTAATTTCTTTTGCTAGCATGGAATATTAATATTAACACCCTGGGAAAGGAATGCATTCCTGGGGGGAGGTCTATAAATGGCCGCTCTGGGAATGTCTATCCTACGCAACGGAGATAAGGACTGAGATACGCCCTGGTCTCCTGCAGTACCCTCAGGCTTACTAGGGTGGTGAAAAACTCCGCCCTGGTAAATTTGTGGTCAGACCAGTTTTCTGCTCTCGAACACTGTTTTCTGTTGTTTAAGATGTTTATCAAGACAATACGTGCACCGCTGAACACAGACCCTTATCAGTAGTTCTCCTTTTTGCCCTTTGAAGCATGTGATCTACTCCCTGTTTTACACCCCCTCACCTTTTGAAACCCTTAATAAAAAACTTGCTGGTTTGAGGCTCAGGTGGGCATCACAGTACTACCGATATGTGATGTCACCCCCGGCGGCCCAGCTGTAAAATTCCTCTCTTTGTACTCTCTCTCTTTATTTCTCAGCCAGCTGACACTTATGGAAAATAGAAAGAACCTACGTTGAAATATTGGGGGCAGGTTCCCCCAATATCTGGTGCCCAACGTGGGATACTGAGATTACAAGCATGAGCCACTGCATCTGGCCTCTTCTTTTGATTTTTTTTTTTCAAACTTTTACAAATGTAGAAACCATTCTTAGCTTTTGGGCATTACCAAACCCGGCAGTGGCAGGCTCGGTTCACCGACGTCATTTGCAGTTCCCCGCTTTATGTTATGGGTTTTGTTTTGTTTTGTTTTTTTTATTGAGACAGAGTTTCACTCTTGTTGCCCAGGCTGTAGTGCAATGGTCTGATCTTGGCTCACTGCAACCTCCACTTCCCAGGTTCAAGCCATTCTCCTGCCTCAGCCTCTCAAGTAGCTGGGATTACAGACACTCACCACCACACCTGGCTAATTTTGTATTTTTAGTAGAGATGAGGTTTCACCATGTTGGCCAGGCTGGTCTCGAAATCCTGACCTCAGGTGATCCACCCACCTTGGCCTCCCAAAGTGCTGGGATTACAGGCTTGAGCTACCACGCCTGGCTGGGTTGGTTCTCAATGGAGTGGTTTGTTTTTGGAGCTGCTCTGCGCAGTGGGGACCAGAATAGGCCTGGGTTCCTAGCCCATTGCTATTCCTTACCAGCTGTGGATTCTAAGGAAAGTCATTTAACCTCGCTGGACCTTAGATTCCTCATCCCTGAAGCCCAAGGGTAAAACAAAACAAAACAAAACAAAACAAACCAACCCATCATGTAAAGCGGGGAACTACAAACGATACAGGTGAAACATGCCTACCACACCACTCACAGGCTATGATGACAAAAACGTGGCTACATCTGGGACCACCCCCCAACCCCCACTTTGTACGTAGGAAATACGGAGTTGAGGATGGAGACCCACAGTATGTCCAGAGTGTCCCCAAAGGCCACAGTGCCCGCCTGGAGCCCTCCAGAGAGCGTGCACTCCCTGGGGTGCCAGCCAGAGACAACTTGCCCTGAGGCTTGGAACTCGATTCTCCGCGTGCCAGAGAAGGGGTGGGACTTCAGAACCCCCAACCCCGCAATCTGGGTCGGGGAGCCTGGCGCACTGCGGGCCGCTCCCTCTAACCCTGGGCTTCCCTGGCGTCCAGGGCCGTCGGGGCCGAGTCCCGATTCGCTCCCACCCCGAAGCCGCGCCAGGACCAACGAGGGCGCAGCCGTATGCCCCAGCCCGCTCCGCGGAGCCCCTCACAGCCACCCCCGCCCCGACCGCGCCCCGAGCGGCTCGAAGCACCTTCCCAAGGGGCTGGTCCTTGCGCCATAGTCGCGCCGGAGCCTCTGGAGGGACATCAAGGATTTCTCGCTCCTACCAGCCACCCCCAAATTTTTGGGAGGTACCCAAGGGTGCGCGCGTGGCTCCTGGCGCGCCGAGGCCCTCCCTCGAGGCCCCGCGAGGTGCACACTGCGGGCCCAGGGCTAGCAGCCGCCCGGCACGTCGCTACCCTGAGGGGCGGGGCGGGAGCTGGCGCTAGAAATGCGCCGGGGCCTGCGGGGCAGTTGCGCAAGTTGTGATCGGGCCGCTATAAGAGGGGCGGGCAGGCATGGAGCCCCGTAGGAATCGCAGCGCCAACGGTTGCAAG\n"
     ]
    }
   ],
   "source": [
    "print (reg.seq)"
   ]
  },
  {
   "cell_type": "code",
   "execution_count": 2,
   "metadata": {},
   "outputs": [
    {
     "name": "stdout",
     "output_type": "stream",
     "text": [
      "type: gene\n",
      "location: [2921:2951](+)\n",
      "qualifiers:\n",
      "    Key: gene, Value: ['ob']\n",
      "\n"
     ]
    }
   ],
   "source": [
    "print (reg.features[1])"
   ]
  },
  {
   "cell_type": "code",
   "execution_count": 3,
   "metadata": {},
   "outputs": [
    {
     "name": "stdout",
     "output_type": "stream",
     "text": [
      "type: promoter\n",
      "location: [<2921:>2951](+)\n",
      "qualifiers:\n",
      "    Key: gene, Value: ['ob']\n",
      "    Key: note, Value: ['obese protein']\n",
      "\n"
     ]
    }
   ],
   "source": [
    "print (reg.features [2])"
   ]
  },
  {
   "cell_type": "code",
   "execution_count": 4,
   "metadata": {},
   "outputs": [
    {
     "name": "stdout",
     "output_type": "stream",
     "text": [
      "GTAGGAATCGCAGCGCCAACGGTTGCAAG\n"
     ]
    }
   ],
   "source": [
    "gene = reg.seq [2921+1:2951+1]\n",
    "print (gene)"
   ]
  },
  {
   "cell_type": "markdown",
   "metadata": {},
   "source": [
    "# Se obtiene el promotor y se lo escribe a un archivo FASTA"
   ]
  },
  {
   "cell_type": "code",
   "execution_count": 5,
   "metadata": {},
   "outputs": [
    {
     "name": "stdout",
     "output_type": "stream",
     "text": [
      "CGCAGTGGGGACCAGAATAGGCCTGGGTTCCTAGCCCATTGCTATTCCTTACCAGCTGTGGATTCTAAGGAAAGTCATTTAACCTCGCTGGACCTTAGATTCCTCATCCCTGAAGCCCAAGGGTAAAACAAAACAAAACAAAACAAAACAAACCAACCCATCATGTAAAGCGGGGAACTACAAACGATACAGGTGAAACATGCCTACCACACCACTCACAGGCTATGATGACAAAAACGTGGCTACATCTGGGACCACCCCCCAACCCCCACTTTGTACGTAGGAAATACGGAGTTGAGGATGGAGACCCACAGTATGTCCAGAGTGTCCCCAAAGGCCACAGTGCCCGCCTGGAGCCCTCCAGAGAGCGTGCACTCCCTGGGGTGCCAGCCAGAGACAACTTGCCCTGAGGCTTGGAACTCGATTCTCCGCGTGCCAGAGAAGGGGTGGGACTTCAGAACCCCCAACCCCGCAATCTGGGTCGGGGAGCCTGGCGCACTGCGGGCCGCTCCCTCTAACCCTGGGCTTCCCTGGCGTCCAGGGCCGTCGGGGCCGAGTCCCGATTCGCTCCCACCCCGAAGCCGCGCCAGGACCAACGAGGGCGCAGCCGTATGCCCCAGCCCGCTCCGCGGAGCCCCTCACAGCCACCCCCGCCCCGACCGCGCCCCGAGCGGCTCGAAGCACCTTCCCAAGGGGCTGGTCCTTGCGCCATAGTCGCGCCGGAGCCTCTGGAGGGACATCAAGGATTTCTCGCTCCTACCAGCCACCCCCAAATTTTTGGGAGGTACCCAAGGGTGCGCGCGTGGCTCCTGGCGCGCCGAGGCCCTCCCTCGAGGCCCCGCGAGGTGCACACTGCGGGCCCAGGGCTAGCAGCCGCCCGGCACGTCGCTACCCTGAGGGGCGGGGCGGGAGCTGGCGCTAGAAATGCGCCGGGGCCTGCGGGGCAGTTGCGCAAGTTGTGATCGGGCCGCTATAAGAGGGGCGGGCAGGCATGGAGCCCC\n"
     ]
    },
    {
     "data": {
      "text/plain": [
       "1"
      ]
     },
     "execution_count": 5,
     "metadata": {},
     "output_type": "execute_result"
    }
   ],
   "source": [
    "from Bio.Seq import Seq\n",
    "from Bio.SeqRecord import SeqRecord\n",
    "\n",
    "promotor = reg.seq[1921:2921+1]\n",
    "print (promotor)\n",
    "rec = SeqRecord (promotor, id=\"promotor0\", description=\"\")\n",
    "SeqIO.write (rec, \"promotor.fasta\", \"fasta\")"
   ]
  },
  {
   "cell_type": "markdown",
   "metadata": {},
   "source": [
    "# Genomic Structure and Promoter Analysis of the Human obese Gene\n",
    "Revisar link: http://www.jbc.org/content/271/8/3971.full Figura 4.\n",
    "Factores de Transcripción:\n",
    "- SP1: cccgcc\n",
    "- CREB: tacgtc\n"
   ]
  },
  {
   "cell_type": "markdown",
   "metadata": {},
   "source": [
    "# Ejecutar BLAST"
   ]
  },
  {
   "cell_type": "code",
   "execution_count": 12,
   "metadata": {},
   "outputs": [],
   "source": [
    "from Bio.Blast.Applications import NcbiblastnCommandline\n",
    "\n",
    "cmm = NcbiblastnCommandline(ungapped=False, gapopen=2, gapextend=1, query=\"promotor.fasta\",subject=\"sitios_regulacion.fasta\", outfmt=0, out=\"secs/blast-res.txt\", word_size=5)\n",
    "#cmm = NcbiblastnCommandline(query=\"secs/human.fasta\",subject=\"secs/mouse.fasta\", outfmt=0, out=\"blast-human-mouse.txt\", word_size=5, penalty=-5, gapextend=0)\n",
    "\n",
    "std,err = cmm()\n"
   ]
  },
  {
   "cell_type": "code",
   "execution_count": 9,
   "metadata": {},
   "outputs": [],
   "source": [
    "# Del archivo de resultados seleccionr el más grande"
   ]
  }
 ],
 "metadata": {
  "kernelspec": {
   "display_name": "Python 3",
   "language": "python",
   "name": "python3"
  },
  "language_info": {
   "codemirror_mode": {
    "name": "ipython",
    "version": 3
   },
   "file_extension": ".py",
   "mimetype": "text/x-python",
   "name": "python",
   "nbconvert_exporter": "python",
   "pygments_lexer": "ipython3",
   "version": "3.6.5"
  }
 },
 "nbformat": 4,
 "nbformat_minor": 2
}
